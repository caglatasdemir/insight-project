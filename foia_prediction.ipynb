{
 "cells": [
  {
   "cell_type": "markdown",
   "metadata": {},
   "source": [
    "# Predicting the Outcome of the Freedom of Information Act Requests"
   ]
  },
  {
   "cell_type": "markdown",
   "metadata": {},
   "source": [
    "## The problem"
   ]
  },
  {
   "cell_type": "markdown",
   "metadata": {},
   "source": [
    "In this project we are interested in predicting the outcome of the Freedom of Information Act Requests for News Media. Securities and Exchange Commission made their data publicly available and we are using the data from 2014 to 2016.\n",
    "\n",
    "For now we only try to predict if a request will be granted or denied, so this is a binary classification problem.\n",
    "\n",
    "We start with loading the packages we will use for this project"
   ]
  },
  {
   "cell_type": "code",
   "execution_count": 1,
   "metadata": {
    "collapsed": true
   },
   "outputs": [],
   "source": [
    "## load packages \n",
    "import pandas as pd\n",
    "import matplotlib.pyplot as plt\n",
    "import calendar\n",
    "import numpy as np\n",
    "import nltk\n",
    "from nltk.stem.porter import PorterStemmer\n",
    "from sklearn.model_selection import train_test_split\n",
    "from sklearn.model_selection import cross_val_score\n",
    "from sklearn.model_selection import learning_curve\n",
    "from sklearn.model_selection import ShuffleSplit\n",
    "from sklearn.feature_extraction.text import TfidfVectorizer\n",
    "from sklearn.feature_extraction.text import CountVectorizer\n",
    "from sklearn.feature_extraction import text \n",
    "from sklearn import linear_model\n",
    "from sklearn.metrics import recall_score, accuracy_score, precision_score\n",
    "from sklearn.metrics import confusion_matrix\n",
    "from sklearn.metrics import classification_report\n",
    "import seaborn as sns; sns.set()\n",
    "# import warnings\n",
    "# warnings.filterwarnings('ignore')\n",
    "%matplotlib inline\n"
   ]
  },
  {
   "cell_type": "markdown",
   "metadata": {},
   "source": [
    "Then we load the data from 2014 to 2016 "
   ]
  },
  {
   "cell_type": "code",
   "execution_count": 2,
   "metadata": {},
   "outputs": [
    {
     "data": {
      "text/html": [
       "<div>\n",
       "<style>\n",
       "    .dataframe thead tr:only-child th {\n",
       "        text-align: right;\n",
       "    }\n",
       "\n",
       "    .dataframe thead th {\n",
       "        text-align: left;\n",
       "    }\n",
       "\n",
       "    .dataframe tbody tr th {\n",
       "        vertical-align: top;\n",
       "    }\n",
       "</style>\n",
       "<table border=\"1\" class=\"dataframe\">\n",
       "  <thead>\n",
       "    <tr style=\"text-align: right;\">\n",
       "      <th></th>\n",
       "      <th>requester_name</th>\n",
       "      <th>organization</th>\n",
       "      <th>requester_category</th>\n",
       "      <th>request_description</th>\n",
       "      <th>requested_date</th>\n",
       "      <th>received_date</th>\n",
       "      <th>request_status</th>\n",
       "      <th>closed_date</th>\n",
       "      <th>final_disposition</th>\n",
       "    </tr>\n",
       "    <tr>\n",
       "      <th>request_id</th>\n",
       "      <th></th>\n",
       "      <th></th>\n",
       "      <th></th>\n",
       "      <th></th>\n",
       "      <th></th>\n",
       "      <th></th>\n",
       "      <th></th>\n",
       "      <th></th>\n",
       "      <th></th>\n",
       "    </tr>\n",
       "  </thead>\n",
       "  <tbody>\n",
       "    <tr>\n",
       "      <th>14-00001-CHAI</th>\n",
       "      <td>b6</td>\n",
       "      <td>NaN</td>\n",
       "      <td>Other</td>\n",
       "      <td>b6</td>\n",
       "      <td>2013-11-15</td>\n",
       "      <td>2013-11-15</td>\n",
       "      <td>Closed</td>\n",
       "      <td>2013-11-21</td>\n",
       "      <td>Other Reasons</td>\n",
       "    </tr>\n",
       "    <tr>\n",
       "      <th>14-00002-CHAI</th>\n",
       "      <td>Hess, James</td>\n",
       "      <td>The Accurso Law Firm</td>\n",
       "      <td>Commercial Organization</td>\n",
       "      <td>Exhibit 2.2(3) Advance Auto Parts Inc 10-K Ann...</td>\n",
       "      <td>2013-11-21</td>\n",
       "      <td>2013-11-21</td>\n",
       "      <td>Closed</td>\n",
       "      <td>2013-12-03</td>\n",
       "      <td>Other Reasons</td>\n",
       "    </tr>\n",
       "    <tr>\n",
       "      <th>14-00003-CHAI</th>\n",
       "      <td>Husting, Craig</td>\n",
       "      <td>PSRS/PEERS</td>\n",
       "      <td>Other</td>\n",
       "      <td>suspected terrorist links</td>\n",
       "      <td>2013-12-11</td>\n",
       "      <td>2013-12-23</td>\n",
       "      <td>Closed</td>\n",
       "      <td>2014-01-06</td>\n",
       "      <td>Other Reasons</td>\n",
       "    </tr>\n",
       "    <tr>\n",
       "      <th>14-00004-CHAI</th>\n",
       "      <td>Boucher, Raymond</td>\n",
       "      <td>KBSS</td>\n",
       "      <td>Commercial Organization</td>\n",
       "      <td>Chevron Corporation</td>\n",
       "      <td>2013-12-30</td>\n",
       "      <td>2013-12-30</td>\n",
       "      <td>Closed</td>\n",
       "      <td>2014-01-02</td>\n",
       "      <td>Other Reasons</td>\n",
       "    </tr>\n",
       "    <tr>\n",
       "      <th>14-00005-CHAI</th>\n",
       "      <td>Patterson, James</td>\n",
       "      <td>NaN</td>\n",
       "      <td>Other</td>\n",
       "      <td>Newsletter Highlights and Lowlights of Corpora...</td>\n",
       "      <td>2014-01-29</td>\n",
       "      <td>2014-01-29</td>\n",
       "      <td>Closed</td>\n",
       "      <td>2014-02-06</td>\n",
       "      <td>Other Reasons</td>\n",
       "    </tr>\n",
       "  </tbody>\n",
       "</table>\n",
       "</div>"
      ],
      "text/plain": [
       "                 requester_name          organization  \\\n",
       "request_id                                              \n",
       "14-00001-CHAI                b6                   NaN   \n",
       "14-00002-CHAI       Hess, James  The Accurso Law Firm   \n",
       "14-00003-CHAI    Husting, Craig            PSRS/PEERS   \n",
       "14-00004-CHAI  Boucher, Raymond                  KBSS   \n",
       "14-00005-CHAI  Patterson, James                   NaN   \n",
       "\n",
       "                    requester_category  \\\n",
       "request_id                               \n",
       "14-00001-CHAI                    Other   \n",
       "14-00002-CHAI  Commercial Organization   \n",
       "14-00003-CHAI                    Other   \n",
       "14-00004-CHAI  Commercial Organization   \n",
       "14-00005-CHAI                    Other   \n",
       "\n",
       "                                             request_description  \\\n",
       "request_id                                                         \n",
       "14-00001-CHAI                                                 b6   \n",
       "14-00002-CHAI  Exhibit 2.2(3) Advance Auto Parts Inc 10-K Ann...   \n",
       "14-00003-CHAI                          suspected terrorist links   \n",
       "14-00004-CHAI                                Chevron Corporation   \n",
       "14-00005-CHAI  Newsletter Highlights and Lowlights of Corpora...   \n",
       "\n",
       "              requested_date received_date request_status closed_date  \\\n",
       "request_id                                                              \n",
       "14-00001-CHAI     2013-11-15    2013-11-15         Closed  2013-11-21   \n",
       "14-00002-CHAI     2013-11-21    2013-11-21         Closed  2013-12-03   \n",
       "14-00003-CHAI     2013-12-11    2013-12-23         Closed  2014-01-06   \n",
       "14-00004-CHAI     2013-12-30    2013-12-30         Closed  2014-01-02   \n",
       "14-00005-CHAI     2014-01-29    2014-01-29         Closed  2014-02-06   \n",
       "\n",
       "              final_disposition  \n",
       "request_id                       \n",
       "14-00001-CHAI     Other Reasons  \n",
       "14-00002-CHAI     Other Reasons  \n",
       "14-00003-CHAI     Other Reasons  \n",
       "14-00004-CHAI     Other Reasons  \n",
       "14-00005-CHAI     Other Reasons  "
      ]
     },
     "execution_count": 2,
     "metadata": {},
     "output_type": "execute_result"
    }
   ],
   "source": [
    "df_2014= pd.DataFrame.from_csv('foia2014.csv')\n",
    "df_2015 = pd.DataFrame.from_csv('foia2015.csv')\n",
    "df_2016= pd.DataFrame.from_csv('foia2016.csv')\n",
    "df=pd.concat([ df_2014, df_2015, df_2016])\n",
    "df.head(5)"
   ]
  },
  {
   "cell_type": "markdown",
   "metadata": {},
   "source": [
    "Let's check the possible values of request status and final disposition."
   ]
  },
  {
   "cell_type": "code",
   "execution_count": 3,
   "metadata": {},
   "outputs": [
    {
     "data": {
      "text/plain": [
       "Closed                 45766\n",
       "Referral Request         210\n",
       "Perfected                 59\n",
       "Documents Added           44\n",
       "Assigned                  38\n",
       "On Hold-Other             31\n",
       "Amended                    4\n",
       "On Hold-Fee Related        2\n",
       "Name: request_status, dtype: int64"
      ]
     },
     "execution_count": 3,
     "metadata": {},
     "output_type": "execute_result"
    }
   ],
   "source": [
    "df.request_status.value_counts()"
   ]
  },
  {
   "cell_type": "code",
   "execution_count": 4,
   "metadata": {},
   "outputs": [
    {
     "data": {
      "text/plain": [
       "Other Reasons             32307\n",
       "Granted in full            9210\n",
       "Denied in full             2603\n",
       "Granted/Denied in Part     1657\n",
       "Name: final_disposition, dtype: int64"
      ]
     },
     "execution_count": 4,
     "metadata": {},
     "output_type": "execute_result"
    }
   ],
   "source": [
    "df.final_disposition.value_counts()"
   ]
  },
  {
   "cell_type": "markdown",
   "metadata": {},
   "source": [
    "We are only interested in the requests where \n",
    "\n",
    "1) The request status is Closed\n",
    "\n",
    "2) The request is Granted in full or Denied in full\n",
    "\n",
    "3) The request category is News Media\n"
   ]
  },
  {
   "cell_type": "code",
   "execution_count": 5,
   "metadata": {
    "collapsed": true
   },
   "outputs": [],
   "source": [
    "# Keep only the closed cases\n",
    "df= df[df.request_status == 'Closed']\n",
    "\n",
    "# Keep only granted and denied cases\n",
    "df= df[ (df['final_disposition']=='Granted in full') | (df['final_disposition']=='Denied in full')]\n",
    "\n",
    "# Keep only the requests from news media category\n",
    "df= df[ (df['requester_category']=='News Media')]\n"
   ]
  },
  {
   "cell_type": "markdown",
   "metadata": {},
   "source": [
    "We also remove the requests with description 'b6'"
   ]
  },
  {
   "cell_type": "code",
   "execution_count": 6,
   "metadata": {
    "collapsed": true
   },
   "outputs": [],
   "source": [
    "# Remove any request with description or name as b6\n",
    "df= df[(df.request_description != 'b6') & (df.requester_name != 'b6')]\n"
   ]
  },
  {
   "cell_type": "markdown",
   "metadata": {},
   "source": [
    "We create separate columns for the request month and the request year and create a new column for final disposition where if the request is granted, the value would be 1 and if the request is denied, the value would be 0."
   ]
  },
  {
   "cell_type": "code",
   "execution_count": 7,
   "metadata": {
    "collapsed": true
   },
   "outputs": [],
   "source": [
    "# Create a binary column named actual for granted=1 and denied=0\n",
    "df['actual']=0\n",
    "df.loc[(df['final_disposition']=='Granted in full'),'actual']=1\n",
    "\n",
    "# convert requested date to datetime and make separate month and year columns\n",
    "df.loc[:,'requested_date']=pd.to_datetime(df['requested_date'])\n",
    "df.loc[:,'req_month'] = df['requested_date'].dt.month\n",
    "df.loc[:,'req_year'] = df['requested_date'].dt.year\n",
    "del df['requested_date']\n",
    "del df['closed_date']\n",
    "del df['received_date']\n",
    "del df['request_status']\n",
    "del df['requester_category']"
   ]
  },
  {
   "cell_type": "markdown",
   "metadata": {},
   "source": [
    "We removed the information on the received date and the closed date since these features cannot be used for our predictions. The requester will not have this information at the time of submitting a request.\n",
    "\n",
    "Let's check if we have any missing values"
   ]
  },
  {
   "cell_type": "code",
   "execution_count": 8,
   "metadata": {},
   "outputs": [
    {
     "data": {
      "text/html": [
       "<div>\n",
       "<style>\n",
       "    .dataframe thead tr:only-child th {\n",
       "        text-align: right;\n",
       "    }\n",
       "\n",
       "    .dataframe thead th {\n",
       "        text-align: left;\n",
       "    }\n",
       "\n",
       "    .dataframe tbody tr th {\n",
       "        vertical-align: top;\n",
       "    }\n",
       "</style>\n",
       "<table border=\"1\" class=\"dataframe\">\n",
       "  <thead>\n",
       "    <tr style=\"text-align: right;\">\n",
       "      <th></th>\n",
       "      <th>Total</th>\n",
       "      <th>Percent</th>\n",
       "    </tr>\n",
       "  </thead>\n",
       "  <tbody>\n",
       "    <tr>\n",
       "      <th>organization</th>\n",
       "      <td>7</td>\n",
       "      <td>0.003964</td>\n",
       "    </tr>\n",
       "    <tr>\n",
       "      <th>req_year</th>\n",
       "      <td>0</td>\n",
       "      <td>0.000000</td>\n",
       "    </tr>\n",
       "    <tr>\n",
       "      <th>req_month</th>\n",
       "      <td>0</td>\n",
       "      <td>0.000000</td>\n",
       "    </tr>\n",
       "    <tr>\n",
       "      <th>actual</th>\n",
       "      <td>0</td>\n",
       "      <td>0.000000</td>\n",
       "    </tr>\n",
       "    <tr>\n",
       "      <th>final_disposition</th>\n",
       "      <td>0</td>\n",
       "      <td>0.000000</td>\n",
       "    </tr>\n",
       "    <tr>\n",
       "      <th>request_description</th>\n",
       "      <td>0</td>\n",
       "      <td>0.000000</td>\n",
       "    </tr>\n",
       "    <tr>\n",
       "      <th>requester_name</th>\n",
       "      <td>0</td>\n",
       "      <td>0.000000</td>\n",
       "    </tr>\n",
       "  </tbody>\n",
       "</table>\n",
       "</div>"
      ],
      "text/plain": [
       "                     Total   Percent\n",
       "organization             7  0.003964\n",
       "req_year                 0  0.000000\n",
       "req_month                0  0.000000\n",
       "actual                   0  0.000000\n",
       "final_disposition        0  0.000000\n",
       "request_description      0  0.000000\n",
       "requester_name           0  0.000000"
      ]
     },
     "execution_count": 8,
     "metadata": {},
     "output_type": "execute_result"
    }
   ],
   "source": [
    "total = df.isnull().sum().sort_values(ascending=False)\n",
    "percent = (df.isnull().sum()/df.isnull().count()).sort_values(ascending=False)\n",
    "missing_data = pd.concat([total, percent], axis=1, keys=['Total', 'Percent'])\n",
    "missing_data.head(20)"
   ]
  },
  {
   "cell_type": "markdown",
   "metadata": {},
   "source": [
    "Very small part of the data has missing values, so we could just remove those."
   ]
  },
  {
   "cell_type": "code",
   "execution_count": 9,
   "metadata": {
    "collapsed": true
   },
   "outputs": [],
   "source": [
    "df=df.dropna()"
   ]
  },
  {
   "cell_type": "code",
   "execution_count": 10,
   "metadata": {},
   "outputs": [
    {
     "data": {
      "text/html": [
       "<div>\n",
       "<style>\n",
       "    .dataframe thead tr:only-child th {\n",
       "        text-align: right;\n",
       "    }\n",
       "\n",
       "    .dataframe thead th {\n",
       "        text-align: left;\n",
       "    }\n",
       "\n",
       "    .dataframe tbody tr th {\n",
       "        vertical-align: top;\n",
       "    }\n",
       "</style>\n",
       "<table border=\"1\" class=\"dataframe\">\n",
       "  <thead>\n",
       "    <tr style=\"text-align: right;\">\n",
       "      <th></th>\n",
       "      <th>requester_name</th>\n",
       "      <th>organization</th>\n",
       "      <th>request_description</th>\n",
       "      <th>final_disposition</th>\n",
       "      <th>actual</th>\n",
       "      <th>req_month</th>\n",
       "      <th>req_year</th>\n",
       "    </tr>\n",
       "    <tr>\n",
       "      <th>request_id</th>\n",
       "      <th></th>\n",
       "      <th></th>\n",
       "      <th></th>\n",
       "      <th></th>\n",
       "      <th></th>\n",
       "      <th></th>\n",
       "      <th></th>\n",
       "    </tr>\n",
       "  </thead>\n",
       "  <tbody>\n",
       "    <tr>\n",
       "      <th>14-00079-FOIA</th>\n",
       "      <td>Zibel, Alan</td>\n",
       "      <td>Wall Street Journal</td>\n",
       "      <td>SEC Chairman Mary Jo White's official calendar...</td>\n",
       "      <td>Granted in full</td>\n",
       "      <td>1</td>\n",
       "      <td>10</td>\n",
       "      <td>2013</td>\n",
       "    </tr>\n",
       "    <tr>\n",
       "      <th>14-00272-FOIA</th>\n",
       "      <td>Gavin, J. Patrick</td>\n",
       "      <td>SECProbes.com</td>\n",
       "      <td>Green Dot Corporation</td>\n",
       "      <td>Denied in full</td>\n",
       "      <td>0</td>\n",
       "      <td>10</td>\n",
       "      <td>2013</td>\n",
       "    </tr>\n",
       "    <tr>\n",
       "      <th>14-00278-FOIA</th>\n",
       "      <td>Gavin, J. Patrick</td>\n",
       "      <td>SECProbes.com</td>\n",
       "      <td>M&amp;T Bank Corp</td>\n",
       "      <td>Denied in full</td>\n",
       "      <td>0</td>\n",
       "      <td>10</td>\n",
       "      <td>2013</td>\n",
       "    </tr>\n",
       "    <tr>\n",
       "      <th>14-00281-FOIA</th>\n",
       "      <td>Gavin, J. Patrick</td>\n",
       "      <td>SECProbes.com</td>\n",
       "      <td>Pall Corporation</td>\n",
       "      <td>Granted in full</td>\n",
       "      <td>1</td>\n",
       "      <td>10</td>\n",
       "      <td>2013</td>\n",
       "    </tr>\n",
       "    <tr>\n",
       "      <th>14-00282-FOIA</th>\n",
       "      <td>Gavin, J. Patrick</td>\n",
       "      <td>SECProbes.com</td>\n",
       "      <td>Panera Bread Company</td>\n",
       "      <td>Denied in full</td>\n",
       "      <td>0</td>\n",
       "      <td>10</td>\n",
       "      <td>2013</td>\n",
       "    </tr>\n",
       "  </tbody>\n",
       "</table>\n",
       "</div>"
      ],
      "text/plain": [
       "                  requester_name         organization  \\\n",
       "request_id                                              \n",
       "14-00079-FOIA        Zibel, Alan  Wall Street Journal   \n",
       "14-00272-FOIA  Gavin, J. Patrick        SECProbes.com   \n",
       "14-00278-FOIA  Gavin, J. Patrick        SECProbes.com   \n",
       "14-00281-FOIA  Gavin, J. Patrick        SECProbes.com   \n",
       "14-00282-FOIA  Gavin, J. Patrick        SECProbes.com   \n",
       "\n",
       "                                             request_description  \\\n",
       "request_id                                                         \n",
       "14-00079-FOIA  SEC Chairman Mary Jo White's official calendar...   \n",
       "14-00272-FOIA                              Green Dot Corporation   \n",
       "14-00278-FOIA                                      M&T Bank Corp   \n",
       "14-00281-FOIA                                   Pall Corporation   \n",
       "14-00282-FOIA                               Panera Bread Company   \n",
       "\n",
       "              final_disposition  actual  req_month  req_year  \n",
       "request_id                                                    \n",
       "14-00079-FOIA   Granted in full       1         10      2013  \n",
       "14-00272-FOIA    Denied in full       0         10      2013  \n",
       "14-00278-FOIA    Denied in full       0         10      2013  \n",
       "14-00281-FOIA   Granted in full       1         10      2013  \n",
       "14-00282-FOIA    Denied in full       0         10      2013  "
      ]
     },
     "execution_count": 10,
     "metadata": {},
     "output_type": "execute_result"
    }
   ],
   "source": [
    "df.head()"
   ]
  },
  {
   "cell_type": "markdown",
   "metadata": {},
   "source": [
    "We will make our predictions using mainly the request description, so we first remove the requests where the request description is only numbers"
   ]
  },
  {
   "cell_type": "code",
   "execution_count": 11,
   "metadata": {
    "collapsed": true
   },
   "outputs": [],
   "source": [
    "# In the request description, keep the words with alphabetic chars only\n",
    "\n",
    "corpusall = df['request_description'].values # np array of descriptions\n",
    "flag=[]  \n",
    "for i in range(len(corpusall)):\n",
    "    x = corpusall[i].split(' ')\n",
    "    y= [ word for word in x if word.isalpha()] # for each description, keeps only the words with alpha chars\n",
    "    \n",
    "    # flags if at least one word is only alpha chars. flag is a boolean list.\n",
    "    if y: \n",
    "        flag.append(True)\n",
    "    else: \n",
    "        flag.append(False)\n",
    "        \n",
    "# clean data with only alphabetic char request description \n",
    "df=df[flag]\n"
   ]
  },
  {
   "cell_type": "markdown",
   "metadata": {},
   "source": [
    "# Splitting the data"
   ]
  },
  {
   "cell_type": "markdown",
   "metadata": {},
   "source": [
    "We now split the data set into training and test sets. We pick 75% of the data set as the training set."
   ]
  },
  {
   "cell_type": "code",
   "execution_count": 12,
   "metadata": {
    "collapsed": true
   },
   "outputs": [],
   "source": [
    "# split the data into training and test data \n",
    "train, test = train_test_split(df, train_size=0.75, test_size=0.25, random_state=0)"
   ]
  },
  {
   "cell_type": "markdown",
   "metadata": {},
   "source": [
    "# Feature Engineering"
   ]
  },
  {
   "cell_type": "markdown",
   "metadata": {},
   "source": [
    "We are trying to create new features using the request descriptions where each word (or n-gram) will be a feature. For that we need to remove the words with numbers in the training set and we create a list of requests."
   ]
  },
  {
   "cell_type": "code",
   "execution_count": 13,
   "metadata": {
    "collapsed": true
   },
   "outputs": [],
   "source": [
    "# for the training set, make a list of the descriptions with only alphabetical words\n",
    "corpus = train['request_description'].values\n",
    "description_list=[]\n",
    "for line in corpus:\n",
    "    x = line.split(' ')\n",
    "    y= [ word for word in x if word.isalpha()]\n",
    "    if y:\n",
    "        description = ' '.join(y)\n",
    "        description_list.append(description)"
   ]
  },
  {
   "cell_type": "markdown",
   "metadata": {},
   "source": [
    "We remove the stopwords from these request descriptions, use a stemmer and then create n-grams with corresponding tfidf scores. We only create unigrams and bigrams."
   ]
  },
  {
   "cell_type": "code",
   "execution_count": 14,
   "metadata": {
    "collapsed": true
   },
   "outputs": [],
   "source": [
    "def tokenize(text):\n",
    "    tokens = nltk.word_tokenize(text)\n",
    "    stems = []\n",
    "    for item in tokens:\n",
    "        stems.append(PorterStemmer().stem(item))\n",
    "    return stems\n",
    "\n",
    "# define stop words\n",
    "my_additional_stop_words=[] # could define corpus specific stop words\n",
    "stop_words = text.ENGLISH_STOP_WORDS.union(my_additional_stop_words) # all the stop words\n",
    "\n",
    "#tfidf vectorizer, tokenize, use the stop words, 1-grams and 2-grams\n",
    "vectorizer = TfidfVectorizer(tokenizer=tokenize, stop_words=stop_words, ngram_range=(1,2))\n",
    "\n",
    "# sparse matrix with the scores of the words for each request\n",
    "tfidf_result = vectorizer.fit_transform(description_list)\n",
    "\n",
    "# clean up feature names\n",
    "features= [word.encode('ascii', 'ignore') for word in vectorizer.get_feature_names()]\n",
    "\n",
    "# np array with the scores of the words for each request\n",
    "tfidf_arr =np.asarray(tfidf_result.toarray())\n",
    "\n",
    "# scores np array for each n-gram \n",
    "scores = tfidf_arr.sum(axis=0)\n",
    "\n",
    "# np array indicator matrix\n",
    "req_desc_ind_train=tfidf_arr.copy()\n",
    "req_desc_ind_train[req_desc_ind_train>0]=1"
   ]
  },
  {
   "cell_type": "markdown",
   "metadata": {},
   "source": [
    "We sort the tfidf scores and select the 300 highest scored features."
   ]
  },
  {
   "cell_type": "code",
   "execution_count": 15,
   "metadata": {
    "collapsed": true
   },
   "outputs": [],
   "source": [
    "# sort the scores  \n",
    "sorted_scores = sorted(scores, reverse=True)\n",
    "sorted_indices= [b[0] for b in sorted(enumerate(scores),key=lambda i:i[1], reverse=True)]"
   ]
  },
  {
   "cell_type": "code",
   "execution_count": 16,
   "metadata": {
    "collapsed": true
   },
   "outputs": [],
   "source": [
    "# pick the highest scored 300 features with their indices\n",
    "numfeatures = 300\n",
    "\n",
    "bestfeatures=[]\n",
    "bestindices=[]\n",
    "for i in sorted_indices[:numfeatures]:\n",
    "    bestfeatures.append(features[i])\n",
    "    bestindices.append(i)\n"
   ]
  },
  {
   "cell_type": "markdown",
   "metadata": {},
   "source": [
    "For the test set, we find the n-grams and create the indicator matrix for the selected feature vector."
   ]
  },
  {
   "cell_type": "code",
   "execution_count": 17,
   "metadata": {
    "collapsed": true
   },
   "outputs": [],
   "source": [
    "# for the test set, find the indicator matrix for request descriptions\n",
    "size_test= test.shape[0]\n",
    "req_desc_ind_test =np.zeros((size_test,numfeatures));\n",
    "\n",
    "for i in range(size_test):\n",
    "    string=test[\"request_description\"].values[i]\n",
    "    vect = CountVectorizer(ngram_range=(1,2))\n",
    "    vect.fit([string])    \n",
    "    wlist=[word.encode('ascii', 'ignore') for word in vect.get_feature_names()]\n",
    "    for word in wlist:\n",
    "        if word.lower() in bestfeatures:\n",
    "            req_desc_ind_test[i][bestfeatures.index(word.lower())]=1\n",
    "            "
   ]
  },
  {
   "cell_type": "markdown",
   "metadata": {},
   "source": [
    "If we would like to use features other than the selected 300 n-grams, we combine them in the feature vector. For evaluating the model, we create a column for predictions. For now we will only use the n-grams and the requested month "
   ]
  },
  {
   "cell_type": "code",
   "execution_count": 18,
   "metadata": {
    "collapsed": true,
    "scrolled": true
   },
   "outputs": [],
   "source": [
    "# combine all feature matrices for training and test sets\n",
    "# binary values from categorical features\n",
    "# features from requested month, year and request description\n",
    "\n",
    "y_train = train['actual']\n",
    "y_test = test['actual']\n",
    "preds = test[['actual']].copy()\n",
    "X_train_features=pd.concat([pd.get_dummies(train['req_month']),pd.DataFrame(req_desc_ind_train[:,bestindices], columns=bestfeatures, index=train.index)], axis=1, join='inner')\n",
    "X_test_features=pd.concat([pd.get_dummies(test['req_month']),(pd.DataFrame(req_desc_ind_test, columns=bestfeatures, index=test.index))], axis=1, join='inner')\n"
   ]
  },
  {
   "cell_type": "markdown",
   "metadata": {},
   "source": [
    "# The Model"
   ]
  },
  {
   "cell_type": "markdown",
   "metadata": {},
   "source": [
    "Let's try the logistic regression model with L2 regularization."
   ]
  },
  {
   "cell_type": "code",
   "execution_count": 19,
   "metadata": {
    "collapsed": true
   },
   "outputs": [],
   "source": [
    "logreg = linear_model.LogisticRegression(C=1,penalty='l2',class_weight='balanced')\n",
    "logreg.fit(X_train_features.values, y_train.values)\n",
    "Zlogreg = logreg.predict(X_test_features.values)\n",
    "preds['prediction']=Zlogreg"
   ]
  },
  {
   "cell_type": "code",
   "execution_count": 20,
   "metadata": {
    "collapsed": true
   },
   "outputs": [],
   "source": [
    "def plot_confusion_matrix(y_true, y_predicted, labels=None):\n",
    "\n",
    "    cm = confusion_matrix(y_true, y_predicted)\n",
    "    cm = cm.astype('float') / cm.sum(axis=1)[:, np.newaxis]\n",
    "    cm = np.round(cm,2)\n",
    "    labels = labels or range(len(cm))\n",
    "    acc = accuracy_score(y_true, y_predicted)\n",
    "    rec = recall_score(y_true, y_predicted)\n",
    "    precision = precision_score(y_true, y_predicted)\n",
    "    plt.figure(dpi=80)\n",
    "    sns.heatmap(cm, xticklabels=['Denied','Granted'], yticklabels=['Denied','Granted'],\n",
    "    annot=True, fmt=\"g\", cmap=\"Reds\",annot_kws={\"size\": 18})\n",
    "    plt.xlabel(\"Predicted\", size=14)\n",
    "    plt.ylabel(\"Actual\", size=14)\n",
    "    plt.yticks(rotation=\"horizontal\") \n",
    "    plt.title(\"Accuracy: {:.2f}\\nprecision: {:.2f}, recall: {:.2f}\".format(acc, precision, rec))\n",
    "    return"
   ]
  },
  {
   "cell_type": "code",
   "execution_count": 21,
   "metadata": {},
   "outputs": [
    {
     "name": "stdout",
     "output_type": "stream",
     "text": [
      "[ 0.875       0.90686275  0.81773399]\n",
      "             precision    recall  f1-score   support\n",
      "\n",
      "          0       0.87      0.97      0.91       282\n",
      "          1       0.90      0.67      0.77       126\n",
      "\n",
      "avg / total       0.88      0.88      0.87       408\n",
      "\n"
     ]
    },
    {
     "data": {
      "image/png": "[encoded data removed]",
      "text/plain": [
       "<matplotlib.figure.Figure at 0x7fd48a080b90>"
      ]
     },
     "metadata": {},
     "output_type": "display_data"
    }
   ],
   "source": [
    "print(cross_val_score(logreg, X_train_features.values, y_train.values))\n",
    "plot_confusion_matrix(preds['actual'],preds['prediction'],labels=None)\n",
    "print(classification_report(preds['actual'],preds['prediction']))\n",
    "plt.show()"
   ]
  },
  {
   "cell_type": "code",
   "execution_count": 22,
   "metadata": {},
   "outputs": [
    {
     "data": {
      "text/html": [
       "<div>\n",
       "<style>\n",
       "    .dataframe thead tr:only-child th {\n",
       "        text-align: right;\n",
       "    }\n",
       "\n",
       "    .dataframe thead th {\n",
       "        text-align: left;\n",
       "    }\n",
       "\n",
       "    .dataframe tbody tr th {\n",
       "        vertical-align: top;\n",
       "    }\n",
       "</style>\n",
       "<table border=\"1\" class=\"dataframe\">\n",
       "  <thead>\n",
       "    <tr style=\"text-align: right;\">\n",
       "      <th></th>\n",
       "      <th>actual</th>\n",
       "      <th>prediction</th>\n",
       "    </tr>\n",
       "    <tr>\n",
       "      <th>request_id</th>\n",
       "      <th></th>\n",
       "      <th></th>\n",
       "    </tr>\n",
       "  </thead>\n",
       "  <tbody>\n",
       "    <tr>\n",
       "      <th>16-03112-FOIA</th>\n",
       "      <td>1</td>\n",
       "      <td>1</td>\n",
       "    </tr>\n",
       "    <tr>\n",
       "      <th>15-02110-FOIA</th>\n",
       "      <td>1</td>\n",
       "      <td>1</td>\n",
       "    </tr>\n",
       "    <tr>\n",
       "      <th>15-02726-FOIA</th>\n",
       "      <td>1</td>\n",
       "      <td>1</td>\n",
       "    </tr>\n",
       "    <tr>\n",
       "      <th>14-05473-T</th>\n",
       "      <td>1</td>\n",
       "      <td>0</td>\n",
       "    </tr>\n",
       "    <tr>\n",
       "      <th>14-02235-FOIA</th>\n",
       "      <td>0</td>\n",
       "      <td>0</td>\n",
       "    </tr>\n",
       "    <tr>\n",
       "      <th>15-06694-T</th>\n",
       "      <td>0</td>\n",
       "      <td>0</td>\n",
       "    </tr>\n",
       "    <tr>\n",
       "      <th>16-03179-FOIA</th>\n",
       "      <td>1</td>\n",
       "      <td>1</td>\n",
       "    </tr>\n",
       "    <tr>\n",
       "      <th>16-03508-T</th>\n",
       "      <td>0</td>\n",
       "      <td>0</td>\n",
       "    </tr>\n",
       "    <tr>\n",
       "      <th>16-01562-T</th>\n",
       "      <td>0</td>\n",
       "      <td>0</td>\n",
       "    </tr>\n",
       "    <tr>\n",
       "      <th>15-05459-T</th>\n",
       "      <td>0</td>\n",
       "      <td>0</td>\n",
       "    </tr>\n",
       "  </tbody>\n",
       "</table>\n",
       "</div>"
      ],
      "text/plain": [
       "               actual  prediction\n",
       "request_id                       \n",
       "16-03112-FOIA       1           1\n",
       "15-02110-FOIA       1           1\n",
       "15-02726-FOIA       1           1\n",
       "14-05473-T          1           0\n",
       "14-02235-FOIA       0           0\n",
       "15-06694-T          0           0\n",
       "16-03179-FOIA       1           1\n",
       "16-03508-T          0           0\n",
       "16-01562-T          0           0\n",
       "15-05459-T          0           0"
      ]
     },
     "execution_count": 22,
     "metadata": {},
     "output_type": "execute_result"
    }
   ],
   "source": [
    "preds[:10]"
   ]
  },
  {
   "cell_type": "markdown",
   "metadata": {},
   "source": [
    "# Positive and Negative Features"
   ]
  },
  {
   "cell_type": "code",
   "execution_count": 23,
   "metadata": {},
   "outputs": [
    {
     "data": {
      "text/plain": [
       "<matplotlib.text.Text at 0x7fd483491850>"
      ]
     },
     "execution_count": 23,
     "metadata": {},
     "output_type": "execute_result"
    },
    {
     "data": {
      "image/png": "[encoded data removed]",
      "text/plain": [
       "<matplotlib.figure.Figure at 0x7fd4834e2b90>"
      ]
     },
     "metadata": {},
     "output_type": "display_data"
    }
   ],
   "source": [
    "feature_importance = logreg.coef_[0]\n",
    "top =0  \n",
    "dep=10\n",
    "sorted_idx = np.argsort((feature_importance))\n",
    "pos = np.arange(sorted_idx.shape[0]) + .5\n",
    "plt.figure(1,figsize=(8, 6))\n",
    "dep = len(pos)-dep\n",
    "top = len(pos)-top\n",
    "plt.barh(pos[dep:top], feature_importance[sorted_idx][dep:top], align='center', color='b')\n",
    "plt.yticks(pos[dep:top], np.asanyarray(X_train_features.columns.values.tolist())[sorted_idx][dep:top], fontsize=15)\n",
    "plt.xlabel('Feature Coefficients', fontsize=20)\n",
    "plt.title('Variable Importance - Positive', fontsize=20)"
   ]
  },
  {
   "cell_type": "code",
   "execution_count": 24,
   "metadata": {},
   "outputs": [
    {
     "data": {
      "image/png": "[encoded data removed]",
      "text/plain": [
       "<matplotlib.figure.Figure at 0x7fd483435fd0>"
      ]
     },
     "metadata": {},
     "output_type": "display_data"
    }
   ],
   "source": [
    "feature_importance = logreg.coef_[0]\n",
    "top =0    \n",
    "dep=10\n",
    "sorted_idx = np.argsort(-feature_importance)\n",
    "pos = np.arange(sorted_idx.shape[0]) + .5\n",
    "plt.figure(figsize=(8, 6))\n",
    "dep = len(pos)-dep\n",
    "top = len(pos)-top\n",
    "plt.barh(pos[dep:top], feature_importance[sorted_idx][dep:top], align='center', color='r')\n",
    "plt.yticks(pos[dep:top], np.asanyarray(X_train_features.columns.values.tolist())[sorted_idx][dep:top], fontsize=15)\n",
    "plt.xlabel('Feature Coefficients', fontsize=20)\n",
    "plt.title('Variable Importance - Negative', fontsize=20)\n",
    "plt.show()"
   ]
  },
  {
   "cell_type": "markdown",
   "metadata": {},
   "source": [
    "# Learning Curve"
   ]
  },
  {
   "cell_type": "code",
   "execution_count": 25,
   "metadata": {},
   "outputs": [
    {
     "data": {
      "image/png": "[encoded data removed]",
      "text/plain": [
       "<matplotlib.figure.Figure at 0x7fd4834351d0>"
      ]
     },
     "metadata": {},
     "output_type": "display_data"
    }
   ],
   "source": [
    "def plot_learning_curve(estimator, title, X, y, ylim=None, cv=None,\n",
    "                        n_jobs=1, train_sizes=np.linspace(.1, 1.0, 5)):\n",
    "    plt.figure()\n",
    "    plt.title(title)\n",
    "    if ylim is not None:\n",
    "        plt.ylim(*ylim)\n",
    "    plt.xlabel(\"Training examples\")\n",
    "    plt.ylabel(\"Score\")\n",
    "    train_sizes, train_scores, test_scores = learning_curve(\n",
    "        estimator, X, y, cv=cv, n_jobs=n_jobs, train_sizes=train_sizes)\n",
    "    train_scores_mean = np.mean(train_scores, axis=1)\n",
    "    train_scores_std = np.std(train_scores, axis=1)\n",
    "    test_scores_mean = np.mean(test_scores, axis=1)\n",
    "    test_scores_std = np.std(test_scores, axis=1)\n",
    "    plt.grid()\n",
    "\n",
    "    plt.fill_between(train_sizes, train_scores_mean - train_scores_std,\n",
    "                     train_scores_mean + train_scores_std, alpha=0.1,\n",
    "                     color=\"r\")\n",
    "    plt.fill_between(train_sizes, test_scores_mean - test_scores_std,\n",
    "                     test_scores_mean + test_scores_std, alpha=0.1, color=\"g\")\n",
    "    plt.plot(train_sizes, train_scores_mean, 'o-', color=\"k\",\n",
    "             label=\"Training score\")\n",
    "    plt.plot(train_sizes, test_scores_mean, 'o-', color=\"m\",\n",
    "             label=\"Cross-validation score\")\n",
    "\n",
    "    plt.legend(loc=\"best\")\n",
    "    return plt\n",
    "\n",
    "\n",
    "X, y =X_train_features.values, y_train.values\n",
    "cv = ShuffleSplit(n_splits=100, test_size=0.25, random_state=0)\n",
    "\n",
    "title = \"Learning Curve (Logistic regression)\"\n",
    "plot_learning_curve(logreg, title, X, y, ylim=(0.7, 1.01), cv=cv,n_jobs=4)\n",
    "plt.show()\n"
   ]
  },
  {
   "cell_type": "code",
   "execution_count": null,
   "metadata": {
    "collapsed": true
   },
   "outputs": [],
   "source": []
  }
 ],
 "metadata": {
  "anaconda-cloud": {},
  "kernelspec": {
   "display_name": "Python 2",
   "language": "python",
   "name": "python2"
  },
  "language_info": {
   "codemirror_mode": {
    "name": "ipython",
    "version": 2
   },
   "file_extension": ".py",
   "mimetype": "text/x-python",
   "name": "python",
   "nbconvert_exporter": "python",
   "pygments_lexer": "ipython2",
   "version": "2.7.13"
  }
 },
 "nbformat": 4,
 "nbformat_minor": 1
}
